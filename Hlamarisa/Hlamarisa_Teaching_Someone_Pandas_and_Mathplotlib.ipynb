{
  "cells": [
    {
      "cell_type": "code",
      "execution_count": 7,
      "metadata": {
        "id": "j6AiIqO-yrCi"
      },
      "outputs": [],
      "source": [
        "import pandas as pd\n",
        "import matplotlib.pyplot as plt"
      ]
    },
    {
      "cell_type": "code",
      "execution_count": null,
      "metadata": {
        "id": "xk9r96U424UH"
      },
      "outputs": [],
      "source": [
        "# 1.0 Udemy courses file load\n",
        "df = pd.read_csv('path to Udemy course dataset')\n",
        "df.head(2)"
      ]
    },
    {
      "cell_type": "code",
      "execution_count": null,
      "metadata": {
        "id": "wwax9cnpuEfg"
      },
      "outputs": [],
      "source": [
        "# 1.1 Find the most used free course\n",
        "\n",
        "df_top = df.sort_values(by = 'num_subscribers', ascending = False)\n",
        "df_head = df_top.head(1)\n",
        "df_head['course_title']"
      ]
    },
    {
      "cell_type": "code",
      "execution_count": null,
      "metadata": {
        "id": "I6lG_r0NB-gg"
      },
      "outputs": [],
      "source": [
        "# 1.2 What are the top 10 highest rated free courses?\n",
        "\n",
        "df_free = df[df['price'] == 0.0]\n",
        "df_top_10free = df_free.sort_values(by = 'Rating', ascending = False)\n",
        "df_top_10free.head(10)"
      ]
    },
    {
      "cell_type": "code",
      "execution_count": null,
      "metadata": {
        "id": "P2nOtE9YCCJY"
      },
      "outputs": [],
      "source": [
        "# 1.3 Name of a free course with the most reviews\n",
        "\n",
        "df_free.sort_values(by = 'num_reviews', ascending = False)\n",
        "df_free.head(1)"
      ]
    },
    {
      "cell_type": "code",
      "execution_count": null,
      "metadata": {
        "id": "a_LYOqjFCGzL"
      },
      "outputs": [],
      "source": [
        "# 1.4 Find the count of courses with a rating of 0.5 and lower\n",
        "\n",
        "df_lowrate = df[df['Rating'] <= 0.5]\n",
        "df_lowrate['Rating'].count()"
      ]
    },
    {
      "cell_type": "code",
      "execution_count": null,
      "metadata": {
        "id": "8pfE2BCY3kdP"
      },
      "outputs": [],
      "source": [
        "# 2.0 student exam performance in schools file load\n",
        "\n",
        "exams = pd.read_csv('path to exams dataset')\n",
        "exams.head()\n"
      ]
    },
    {
      "cell_type": "code",
      "execution_count": null,
      "metadata": {
        "id": "yNAPq_n4GEX7"
      },
      "outputs": [],
      "source": [
        "# 2.1 No test preparation and low math mark (score below 50)\n",
        "\n",
        "incom_prep_low_mark = exams[(exams['test preparation course'] == 'none') & (exams['math score'] < 50)]\n",
        "incom_prep_low_mark.count()"
      ]
    },
    {
      "cell_type": "code",
      "execution_count": null,
      "metadata": {
        "id": "VFI31q4TGGbZ"
      },
      "outputs": [],
      "source": [
        "# 2.2 function to classify writing performance skills:\n",
        "     #below 50 = poor \n",
        "     #above 50 & below 65 = average \n",
        "     #above 65 & below 85 = good\n",
        "     #above 85 = exceptional\n",
        "\n",
        "def classify(writing_mark):\n",
        "  if writing_mark['writing score'] < 50:\n",
        "    return 'POOR'\n",
        "  elif writing_mark['writing score'] >= 50 and writing_mark['writing score'] < 65:\n",
        "    return 'AVERAGE'\n",
        "  elif writing_mark['writing score'] >= 65 and writing_mark['writing score'] < 85:\n",
        "    return 'GOOD'\n",
        "  elif writing_mark['writing score'] > 85:\n",
        "    return 'EXCEPTIONAL'\n",
        "exams['writing class'] = exams.apply(lambda writing_mark: classify(writing_mark), axis = 1)"
      ]
    },
    {
      "cell_type": "code",
      "execution_count": null,
      "metadata": {
        "id": "XOXT7Qe3KhqN"
      },
      "outputs": [],
      "source": [
        "# 2.3 How many students are exceptional in writing?\n",
        "exams[exams['writing class'] == 'EXCEPTIONAL'].count()"
      ]
    },
    {
      "cell_type": "code",
      "execution_count": null,
      "metadata": {
        "colab": {
          "base_uri": "https://localhost:8080/",
          "height": 281
        },
        "id": "SQYCrHPUK2nX",
        "outputId": "131ac59b-4775-4ffc-9a9d-319afd817fae"
      },
      "outputs": [],
      "source": [
        "# 2.4 Plot graphs to compare marks in the different subjects\n",
        "# math score\n",
        "score = 'Scores'\n",
        "student = 'Students'\n",
        "math_plot = plt.plot(exams['math score'])\n",
        "plt.title('Math Scores')\n",
        "plt.show()"
      ]
    },
    {
      "cell_type": "code",
      "execution_count": null,
      "metadata": {
        "colab": {
          "base_uri": "https://localhost:8080/",
          "height": 281
        },
        "id": "WDnmqCkVOc4g",
        "outputId": "8518fd10-922d-4d1f-9bdc-03470be323cf"
      },
      "outputs": [],
      "source": [
        "# reading score\n",
        "read_plot = plt.plot(exams['reading score'])\n",
        "plt.title('Reading Scores')\n",
        "plt.show()"
      ]
    },
    {
      "cell_type": "code",
      "execution_count": null,
      "metadata": {
        "colab": {
          "base_uri": "https://localhost:8080/",
          "height": 281
        },
        "id": "BxVFMJ8uOlBQ",
        "outputId": "6ab945b6-2768-4b26-bc4f-6565b200d220"
      },
      "outputs": [],
      "source": [
        "# writing score\n",
        "write_plot = plt.plot(exams['writing score'])\n",
        "plt.title('Writing Scores')\n",
        "plt.show()"
      ]
    }
  ],
  "metadata": {
    "colab": {
      "collapsed_sections": [],
      "provenance": []
    },
    "kernelspec": {
      "display_name": "Python 3.10.8 64-bit (microsoft store)",
      "language": "python",
      "name": "python3"
    },
    "language_info": {
      "codemirror_mode": {
        "name": "ipython",
        "version": 3
      },
      "file_extension": ".py",
      "mimetype": "text/x-python",
      "name": "python",
      "nbconvert_exporter": "python",
      "pygments_lexer": "ipython3",
      "version": "3.10.8"
    },
    "vscode": {
      "interpreter": {
        "hash": "e0acaf148705ed9ed86cc5cad12259d7985e30670e5686e5f55604a9b3b84a55"
      }
    }
  },
  "nbformat": 4,
  "nbformat_minor": 0
}
